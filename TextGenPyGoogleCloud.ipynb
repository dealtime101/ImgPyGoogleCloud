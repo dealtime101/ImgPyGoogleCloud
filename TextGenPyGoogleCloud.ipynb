{
  "nbformat": 4,
  "nbformat_minor": 0,
  "metadata": {
    "colab": {
      "provenance": [],
      "authorship_tag": "ABX9TyPpyycou4pYrCwDGgv3Ph2i",
      "include_colab_link": true
    },
    "kernelspec": {
      "name": "python3",
      "display_name": "Python 3"
    },
    "language_info": {
      "name": "python"
    }
  },
  "cells": [
    {
      "cell_type": "markdown",
      "metadata": {
        "id": "view-in-github",
        "colab_type": "text"
      },
      "source": [
        "<a href=\"https://colab.research.google.com/github/dealtime101/PyGoogleCloud/blob/main/TextGenPyGoogleCloud.ipynb\" target=\"_parent\"><img src=\"https://colab.research.google.com/assets/colab-badge.svg\" alt=\"Open In Colab\"/></a>"
      ]
    },
    {
      "cell_type": "code",
      "execution_count": null,
      "metadata": {
        "id": "vBjITnqBNeE2"
      },
      "outputs": [],
      "source": [
        "!pip install google-cloud-aiplatform"
      ]
    },
    {
      "cell_type": "code",
      "source": [
        "import IPython\n",
        "import time\n",
        "\n",
        "app = IPython.Application.instance()\n",
        "app.kernel.do_shutdown(True)"
      ],
      "metadata": {
        "colab": {
          "base_uri": "https://localhost:8080/"
        },
        "id": "TGz0vI7mNy3D",
        "outputId": "50320928-2bf8-493a-e44e-e2abcdbc3d4a"
      },
      "execution_count": 2,
      "outputs": [
        {
          "output_type": "execute_result",
          "data": {
            "text/plain": [
              "{'status': 'ok', 'restart': True}"
            ]
          },
          "metadata": {},
          "execution_count": 2
        }
      ]
    },
    {
      "cell_type": "code",
      "source": [
        "from google.colab import auth\n",
        "auth.authenticate_user()"
      ],
      "metadata": {
        "id": "Nej5IE33OALt"
      },
      "execution_count": 1,
      "outputs": []
    },
    {
      "cell_type": "code",
      "source": [
        "import vertexai\n",
        "\n",
        "vertexai.init(project = \"mammothinteractivetraining\", location = \"us-central1\")"
      ],
      "metadata": {
        "id": "WKsMumFFOUqP"
      },
      "execution_count": 2,
      "outputs": []
    },
    {
      "cell_type": "code",
      "source": [
        "from vertexai.preview.generative_models import GenerativeModel\n",
        "\n",
        "model = GenerativeModel(\"gemini-pro\")"
      ],
      "metadata": {
        "id": "Kl0e5K_qOmCY"
      },
      "execution_count": 3,
      "outputs": []
    },
    {
      "cell_type": "code",
      "source": [
        "responses = model.generate_content(\"What is a mammoth?\", stream = True)"
      ],
      "metadata": {
        "id": "tFDdb6M8O3JZ"
      },
      "execution_count": 4,
      "outputs": []
    },
    {
      "cell_type": "code",
      "source": [
        "print(responses)"
      ],
      "metadata": {
        "colab": {
          "base_uri": "https://localhost:8080/"
        },
        "id": "bolFDJZWPAjY",
        "outputId": "3f85eae6-443c-4970-931e-f6decaae3c7a"
      },
      "execution_count": 5,
      "outputs": [
        {
          "output_type": "stream",
          "name": "stdout",
          "text": [
            "<generator object _GenerativeModel._generate_content_streaming at 0x7820852042e0>\n"
          ]
        }
      ]
    },
    {
      "cell_type": "code",
      "source": [
        "for response in responses:\n",
        "  print(response.text, end = \"\")"
      ],
      "metadata": {
        "id": "17aH0cH8PHaH",
        "colab": {
          "base_uri": "https://localhost:8080/"
        },
        "outputId": "ba840d94-b85b-479a-d423-5181ea7726eb"
      },
      "execution_count": 6,
      "outputs": [
        {
          "output_type": "stream",
          "name": "stdout",
          "text": [
            "## The Woolly Mammoth: A Giant of the Ice Age\n",
            "\n",
            "The woolly mammoth (Mammuthus primigenius) was a massive mammal that roamed the Earth during the Pleistocene epoch, from roughly 2.6 million to 10,000 years ago. These giants were particularly well-adapted to the cold, harsh environments of the Ice Age, with thick fur coats and impressive tusks that could reach up to 15 feet in length.\n",
            "\n",
            "### Key Characteristics:\n",
            "\n",
            "* **Size:** 9-11 feet tall at the shoulder and 12-15 feet long.\n",
            "* **Weight:** 6-8 tons.\n",
            "* **Habitat:** Steppe-tundra and grasslands of Eurasia and North America.\n",
            "* **Diet:** Primarily grasses, sedges, and herbs.\n",
            "* **Social structure:** Lived in herds led by older females.\n",
            "\n",
            "### Adaptations for Survival:\n",
            "\n",
            "* **Thick fur coat:** Up to 18 inches thick, providing insulation against extreme cold.\n",
            "* **Short ears and trunk:** Minimized heat loss through these exposed areas.\n",
            "* **Large tusks:** Used for digging, fighting, and breaking through ice and snow.\n",
            "* **Curved incisors:** Efficiently grazed on tough grasses and vegetation.\n",
            "\n",
            "### Extinction:\n",
            "\n",
            "The exact cause of the woolly mammoth's extinction is still debated. Theories include climate change, habitat loss, overhunting, and disease. However, recent research suggests that a combination of factors, including climatic shifts and human hunting, likely contributed to their demise around 10,000 years ago.\n",
            "\n",
            "### Legacy:\n",
            "\n",
            "Despite their extinction, woolly mammoths continue to be fascinating creatures. Their remains have provided valuable insights into the Ice Age and have sparked the imaginations of artists and scientists alike.\n",
            "\n",
            "### Interesting Facts:\n",
            "\n",
            "* Woolly mammoths were closely related to the modern-day Asian elephant.\n",
            "* Their thick fur may have been reddish-brown in color.\n",
            "* Frozen mammoth carcasses have been discovered in Siberia, providing scientists with a wealth of information about their anatomy and genetics.\n",
            "* Efforts are underway to use CRISPR technology to potentially bring the woolly mammoth back to life."
          ]
        }
      ]
    },
    {
      "cell_type": "code",
      "source": [
        "from vertexai.preview.generative_models import GenerationConfig\n",
        "\n",
        "config = GenerationConfig(\n",
        "    temperature = 0.1,\n",
        "    top_k = 1,\n",
        "    top_p = 1.0,\n",
        "    candidate_count = 4,\n",
        "    max_output_tokens = 50\n",
        ")\n",
        "\n",
        "responses = model.generate_content(\"What is a mammoth?\", stream = True)\n",
        "for response in responses:\n",
        "  print(response.text, end = \"\")"
      ],
      "metadata": {
        "id": "VwasThwfPJBK",
        "colab": {
          "base_uri": "https://localhost:8080/"
        },
        "outputId": "0414ede1-247a-4e47-c36e-b7a00620f80f"
      },
      "execution_count": 16,
      "outputs": [
        {
          "output_type": "stream",
          "name": "stdout",
          "text": [
            "## The Mighty Mammoth: An Ice Age Giant\n",
            "\n",
            "A mammoth was a giant, hairy elephant-like creature that roamed the Earth during the Ice Age, which ended about 10,000 years ago. These magnificent beasts were incredibly well-adapted to the cold, harsh conditions of the time, with thick fur, a layer of fat, and small ears and tails to minimize heat loss.\n",
            "\n",
            "### Two Main Types: \n",
            "\n",
            "There were two main types of mammoths: \n",
            "\n",
            "**1. Woolly Mammoth:** The most famous and widely recognized mammoth species. They had long, curved tusks, reaching up to 15 feet in length, and their thick fur could be up to a foot long. \n",
            "\n",
            "**2. Steppe Mammoth:** Slightly smaller than the woolly mammoth, with shorter tusks and fur. They were also more adapted to open grasslands.\n",
            "\n",
            "### Where and When They Lived:\n",
            "\n",
            "Mammoths lived throughout the Northern Hemisphere, including parts of North America, Europe, Asia, and Africa. They thrived in the cold, open grasslands and tundra environments that were common during the Ice Age.\n",
            "\n",
            "### Diet and Behavior:\n",
            "\n",
            "Like modern elephants, mammoths were herbivores, feeding on grasses, leaves, and twigs. They were social animals, living in herds led by older females. \n",
            "\n",
            "### Extinction:\n",
            "\n",
            "Mammoths became extinct around 10,000 years ago, likely due to a combination of climate change and human hunting. Interestingly, their remains have been found frozen in permafrost, providing valuable insights into their appearance and behavior.\n",
            "\n",
            "### Interesting Facts:\n",
            "\n",
            "* The word \"mammoth\" comes from the Russian word \"mamont,\" meaning \"earth-ox.\"\n",
            "* Mammoth tusks were used by early humans for tools, weapons, and art.\n",
            "* There is ongoing research into the possibility of cloning mammoths using preserved DNA.\n",
            "\n",
            "### Further Resources:\n",
            "\n",
            "* National Geographic Kids: https://kids.nationalgeographic.com/animals/mammals/facts/mammoth\n",
            "* Natural History Museum: https://www.nhm.ac.uk/discover/what-is-a-mammoth.html\n",
            "* Britannica: https://www.britannica.com/animal/mammoth"
          ]
        }
      ]
    }
  ]
}